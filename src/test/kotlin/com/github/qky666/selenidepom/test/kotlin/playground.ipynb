{
 "cells": [
  {
   "cell_type": "code",
   "metadata": {
    "collapsed": true,
    "ExecuteTime": {
     "end_time": "2025-09-10T09:48:39.702117Z",
     "start_time": "2025-09-10T09:48:36.009201500Z"
    }
   },
   "source": [
    "import com.codeborne.selenide.Configuration\n",
    "import com.codeborne.selenide.Selenide\n",
    "import com.github.qky666.selenidepom.test.kotlin.downloadTiddlywikiEs\n",
    "\n",
    "val url = downloadTiddlywikiEs().toURI().toURL()\n",
    "Configuration.headless = false\n",
    "Selenide.open(url)"
   ],
   "outputs": [],
   "execution_count": 1
  },
  {
   "metadata": {
    "ExecuteTime": {
     "end_time": "2025-09-10T09:48:44.087143500Z",
     "start_time": "2025-09-10T09:48:43.370967400Z"
    }
   },
   "cell_type": "code",
   "source": [
    "import com.codeborne.selenide.Selenide\n",
    "import com.github.qky666.selenidepom.pom.Page\n",
    "import com.github.qky666.selenidepom.test.kotlin.tiddlywiki.pom.MainPage\n",
    "\n",
    "val mainPage = Page.getInstance(MainPage::class)\n",
    "mainPage.sidebar.sidebarTabs.toolsTabButton.click()"
   ],
   "outputs": [],
   "execution_count": 2
  },
  {
   "metadata": {
    "ExecuteTime": {
     "end_time": "2025-09-10T09:50:20.659827300Z",
     "start_time": "2025-09-10T09:50:20.350072900Z"
    }
   },
   "cell_type": "code",
   "source": "",
   "outputs": [],
   "execution_count": 6
  },
  {
   "metadata": {
    "ExecuteTime": {
     "end_time": "2025-09-10T10:36:09.574317400Z",
     "start_time": "2025-09-10T10:36:09.263994300Z"
    }
   },
   "cell_type": "code",
   "source": [
    "import com.codeborne.selenide.Selenide\n",
    "\n",
    "Selenide.closeWebDriver()"
   ],
   "outputs": [],
   "execution_count": 7
  },
  {
   "metadata": {},
   "cell_type": "code",
   "outputs": [],
   "execution_count": null,
   "source": ""
  }
 ],
 "metadata": {
  "kernelspec": {
   "display_name": "Kotlin",
   "language": "kotlin",
   "name": "kotlin"
  },
  "language_info": {
   "name": "kotlin",
   "version": "2.2.20-Beta2",
   "mimetype": "text/x-kotlin",
   "file_extension": ".kt",
   "pygments_lexer": "kotlin",
   "codemirror_mode": "text/x-kotlin",
   "nbconvert_exporter": ""
  },
  "ktnbPluginMetadata": {
   "projectLibraries": false,
   "projectDependencies": [
    "selenide-pom.test"
   ]
  }
 },
 "nbformat": 4,
 "nbformat_minor": 0
}
